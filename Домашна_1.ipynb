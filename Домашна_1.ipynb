{
  "cells": [
    {
      "cell_type": "code",
      "source": [
        "import requests\n",
        "from bs4 import BeautifulSoup\n",
        "\n",
        "url = 'https://www.mse.mk/istoriski-podaci'\n",
        "\n",
        "response = requests.get(url)\n",
        "\n",
        "if response.status_code == 200:\n",
        "    soup = BeautifulSoup(response.text, 'html.parser')\n",
        "\n",
        "\n",
        "    data = []\n",
        "\n",
        "    for row in rows:\n",
        "        cols = row.find_all('td')\n",
        "        if len(cols) > 0:\n",
        "            date = cols[0].text.strip()\n",
        "            price = cols[1].text.strip()\n",
        "            data.append({'date': date, 'price': price})\n",
        "\n",
        "    for entry in data:\n",
        "        print(f\"Date: {entry['date']}, Price: {entry['price']}\")\n",
        "else:\n",
        "    print(f\"Грешка при добивање на податоци: {response.status_code}\")\n"
      ],
      "metadata": {
        "colab": {
          "base_uri": "https://localhost:8080/"
        },
        "id": "Tp5BC3Km0ygb",
        "outputId": "a38ca9b5-b73b-48ff-bfdb-0f15fe750fde"
      },
      "execution_count": 24,
      "outputs": [
        {
          "output_type": "stream",
          "name": "stdout",
          "text": [
            "Date: 2014-11-10, Price: 120.50\n",
            "Date: 2024-11-10, Price: 121.75\n"
          ]
        }
      ]
    },
    {
      "cell_type": "code",
      "source": [
        "import requests\n",
        "from bs4 import BeautifulSoup\n",
        "\n",
        "def get_list_of_issuers():\n",
        "    url = 'https://www.mse.mk/istoriski-podatoci'\n",
        "    response = requests.get(url)\n",
        "\n",
        "    if response.status_code != 200:\n",
        "        print(\"Грешка при преземањето на податоците!\")\n",
        "        return []\n",
        "\n",
        "    soup = BeautifulSoup(response.text, 'html.parser')\n",
        "\n",
        "    issuers = []\n",
        "\n",
        "\n",
        "    for option in soup.find_all('option'):\n",
        "        issuer_code = option.get('value')\n",
        "        issuer_name = option.text.strip()\n",
        "\n",
        "        if issuer_code.isdigit():\n",
        "            continue\n",
        "\n",
        "        issuers.append((issuer_name, issuer_code))\n",
        "\n",
        "    return issuers\n",
        "\n",
        "issuers = get_list_of_issuers()\n",
        "print(issuers)\n"
      ],
      "metadata": {
        "colab": {
          "base_uri": "https://localhost:8080/"
        },
        "id": "e6vUFI5n2ypw",
        "outputId": "84fc8cd3-c31f-4d95-f49a-5dd0a2c7209c"
      },
      "execution_count": 23,
      "outputs": [
        {
          "output_type": "stream",
          "name": "stdout",
          "text": [
            "[]\n"
          ]
        }
      ]
    }
  ],
  "metadata": {
    "colab": {
      "toc_visible": true,
      "provenance": []
    },
    "kernelspec": {
      "display_name": "Python 3",
      "name": "python3"
    }
  },
  "nbformat": 4,
  "nbformat_minor": 0
}